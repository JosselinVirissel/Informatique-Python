{
 "cells": [
  {
   "cell_type": "code",
   "execution_count": 1,
   "metadata": {
    "collapsed": false
   },
   "outputs": [],
   "source": [
    "import numpy as N\n",
    "import matplotlib.pyplot as P\n",
    "# Insert figures within notebook\n",
    "%matplotlib inline"
   ]
  },
  {
   "cell_type": "markdown",
   "metadata": {},
   "source": [
    "# Quadrature"
   ]
  },
  {
   "cell_type": "markdown",
   "metadata": {},
   "source": [
<<<<<<< HEAD
    "Calcul de l'intégrale $\\int_0^\\infty \\frac{x^3}{e^x - 1}\\mathrm{d}x = \\frac{\\pi^4}{15}$:"
=======
    "Calcul de l'intégrale \n",
    "$$\n",
    "\\int_0^\\infty \\frac{x^3}{e^x - 1}\\mathrm{d}x = \\frac{\\pi^4}{15}\n",
    "$$"
>>>>>>> euclid
   ]
  },
  {
   "cell_type": "code",
   "execution_count": 2,
   "metadata": {
    "collapsed": false
   },
   "outputs": [],
   "source": [
    "import scipy.integrate as SI"
   ]
  },
  {
   "cell_type": "code",
   "execution_count": 3,
   "metadata": {
    "collapsed": false
   },
   "outputs": [],
   "source": [
    "def integrand(x):\n",
    "    \n",
    "    return x**3 / (N.exp(x) - 1)"
   ]
  },
  {
   "cell_type": "code",
   "execution_count": 4,
   "metadata": {
    "collapsed": false
   },
   "outputs": [
    {
     "name": "stdout",
     "output_type": "stream",
     "text": [
      "Intégrale: 6.49393940227\n",
<<<<<<< HEAD
      "Erreur estimée: 2.62847002892e-09\n",
=======
      "Erreur estimée: 2.62847076684e-09\n",
>>>>>>> euclid
      "Erreur absolue: 1.7763568394e-15\n"
     ]
    },
    {
     "name": "stderr",
     "output_type": "stream",
     "text": [
<<<<<<< HEAD
      "/usr/local/lib/python2.7/dist-packages/ipykernel/__main__.py:3: RuntimeWarning: overflow encountered in exp\n",
=======
      "/data/ycopin/Softs/local/lib/python2.7/site-packages/ipykernel/__main__.py:3: RuntimeWarning: overflow encountered in exp\n",
>>>>>>> euclid
      "  app.launch_new_instance()\n"
     ]
    }
   ],
   "source": [
    "q, dq = SI.quad(integrand, 0, N.inf)\n",
    "print \"Intégrale:\", q\n",
    "print \"Erreur estimée:\", dq\n",
    "print \"Erreur absolue:\", (q - (N.pi ** 4 / 15))"
   ]
  },
  {
   "cell_type": "markdown",
   "metadata": {},
   "source": [
    "# Zéro d'une fonction"
   ]
  },
  {
   "cell_type": "markdown",
   "metadata": {},
   "source": [
<<<<<<< HEAD
    "Résolution numérique de l'équation $f(x) = \\frac{x\\,e^x}{e^x - 1} - 5 = 0$. "
=======
    "Résolution numérique de l'équation\n",
    "$$\n",
    "f(x) = \\frac{x\\,e^x}{e^x - 1} - 5 = 0\n",
    "$$"
>>>>>>> euclid
   ]
  },
  {
   "cell_type": "code",
   "execution_count": 5,
   "metadata": {
    "collapsed": false
   },
   "outputs": [],
   "source": [
    "def func(x):\n",
    "    \n",
<<<<<<< HEAD
    "    return x*N.exp(x)/(N.exp(x) - 1) - 5"
=======
    "    return x * N.exp(x) / (N.exp(x) - 1) - 5"
>>>>>>> euclid
   ]
  },
  {
   "cell_type": "markdown",
   "metadata": {},
   "source": [
<<<<<<< HEAD
    "Il faut d'abord déterminer un intervalle contenant la solution, c.-à-d. le zéro de `func`.  Puisque $f(0^+) = -4 < 0$ et $f(10) \\simeq 5 > 0$, il peut être intéressant de tracer l'allure de la courbe sur ce domaine:"
=======
    "Il faut d'abord déterminer un intervalle contenant la solution, c.-à-d. le zéro de `func`.  Puisque $f(0^+) = -4 < 0$ et $f(10) \\simeq 5 > 0$, il est intéressant de tracer l'allure de la courbe sur ce domaine:"
>>>>>>> euclid
   ]
  },
  {
   "cell_type": "code",
   "execution_count": 6,
   "metadata": {
    "collapsed": false
   },
   "outputs": [
    {
     "data": {
<<<<<<< HEAD
      "text/plain": [
       "[<matplotlib.lines.Line2D at 0x7f4275987cd0>]"
      ]
     },
     "execution_count": 6,
     "metadata": {},
     "output_type": "execute_result"
    },
    {
     "data": {
      "image/png": "iVBORw0KGgoAAAANSUhEUgAAAXMAAAEACAYAAABBDJb9AAAABHNCSVQICAgIfAhkiAAAAAlwSFlz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\nL3/mc5EAAAAASUVORK5CYII=\n",
      "text/plain": [
       "<matplotlib.figure.Figure at 0x7f42840d2a10>"
=======
      "image/png": "iVBORw0KGgoAAAANSUhEUgAAAXYAAAEACAYAAACnJV25AAAABHNCSVQICAgIfAhkiAAAAAlwSFlz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\nhBk1dhGRMKPGLiISZtTYRUTCzP8DpT8aVnB5TxsAAAAASUVORK5CYII=\n",
      "text/plain": [
       "<matplotlib.figure.Figure at 0xae355e6c>"
>>>>>>> euclid
      ]
     },
     "metadata": {},
     "output_type": "display_data"
    }
   ],
   "source": [
<<<<<<< HEAD
    "x = N.logspace(-1,1)  # Logarithmiquement espacé de 10**-1 = 0.1 à 10**1 = 10\n",
    "P.plot(x,func(x))"
=======
    "x = N.logspace(-1, 1)  # 50 points logarithmiquement espacé de 10**-1 = 0.1 à 10**1 = 10\n",
    "P.plot(x, func(x));"
>>>>>>> euclid
   ]
  },
  {
   "cell_type": "code",
   "execution_count": 7,
   "metadata": {
    "collapsed": false
   },
   "outputs": [],
   "source": [
    "import scipy.optimize as SO"
   ]
  },
  {
   "cell_type": "code",
   "execution_count": 8,
   "metadata": {
    "collapsed": false
   },
   "outputs": [
    {
     "name": "stdout",
     "output_type": "stream",
     "text": [
      "Solution: 4.96511423174\n"
     ]
    }
   ],
   "source": [
    "zero = SO.brentq(func, 1, 10)\n",
    "print \"Solution:\", zero"
   ]
  }
 ],
 "metadata": {
  "kernelspec": {
   "display_name": "Python 2",
   "language": "python",
   "name": "python2"
  },
  "language_info": {
   "codemirror_mode": {
    "name": "ipython",
    "version": 2
   },
   "file_extension": ".py",
   "mimetype": "text/x-python",
   "name": "python",
   "nbconvert_exporter": "python",
   "pygments_lexer": "ipython2",
<<<<<<< HEAD
   "version": "2.7.6"
=======
   "version": "2.7.12"
>>>>>>> euclid
  }
 },
 "nbformat": 4,
 "nbformat_minor": 0
}
