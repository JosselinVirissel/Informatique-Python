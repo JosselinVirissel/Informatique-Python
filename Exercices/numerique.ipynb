{
 "cells": [
  {
   "cell_type": "code",
   "execution_count": 1,
   "metadata": {},
   "outputs": [],
   "source": [
    "import numpy as N\n",
    "import matplotlib.pyplot as P\n",
    "# Insert figures within notebook\n",
    "%matplotlib inline"
   ]
  },
  {
   "cell_type": "markdown",
   "metadata": {},
   "source": [
    "# Quadrature"
   ]
  },
  {
   "cell_type": "markdown",
   "metadata": {},
   "source": [
    "Calcul de l'intégrale \n",
    "$$\n",
    "\\int_0^\\infty \\frac{x^3}{e^x - 1}\\mathrm{d}x = \\frac{\\pi^4}{15}\n",
    "$$"
   ]
  },
  {
   "cell_type": "code",
   "execution_count": 2,
   "metadata": {},
   "outputs": [],
   "source": [
    "import scipy.integrate as SI"
   ]
  },
  {
   "cell_type": "code",
   "execution_count": 3,
   "metadata": {},
   "outputs": [],
   "source": [
    "def integrand(x):\n",
    "    \n",
    "    return x**3 / (N.exp(x) - 1)"
   ]
  },
  {
   "cell_type": "code",
   "execution_count": 4,
   "metadata": {},
   "outputs": [
    {
     "name": "stdout",
     "output_type": "stream",
     "text": [
      "Intégrale: 6.49393940226683\n",
      "Erreur estimée: 2.628470028924825e-09\n",
      "Erreur absolue: 1.7763568394002505e-15\n"
     ]
    },
    {
     "name": "stderr",
     "output_type": "stream",
     "text": [
      "/home/ycopin/Softwares/VirtualEnvs/Python3/lib/python3.5/site-packages/ipykernel_launcher.py:3: RuntimeWarning: overflow encountered in exp\n",
      "  This is separate from the ipykernel package so we can avoid doing imports until\n"
     ]
    }
   ],
   "source": [
    "q, dq = SI.quad(integrand, 0, N.inf)\n",
    "print(\"Intégrale:\", q)\n",
    "print(\"Erreur estimée:\", dq)\n",
    "print(\"Erreur absolue:\", (q - (N.pi ** 4 / 15)))"
   ]
  },
  {
   "cell_type": "markdown",
   "metadata": {},
   "source": [
    "# Zéro d'une fonction"
   ]
  },
  {
   "cell_type": "markdown",
   "metadata": {},
   "source": [
    "Résolution numérique de l'équation\n",
    "$$\n",
    "f(x) = \\frac{x\\,e^x}{e^x - 1} - 5 = 0\n",
    "$$"
   ]
  },
  {
   "cell_type": "code",
   "execution_count": 5,
   "metadata": {},
   "outputs": [],
   "source": [
    "def func(x):\n",
    "    \n",
    "    return x * N.exp(x) / (N.exp(x) - 1) - 5"
   ]
  },
  {
   "cell_type": "markdown",
   "metadata": {},
   "source": [
    "Il faut d'abord déterminer un intervalle contenant la solution, c.-à-d. le zéro de `func`.  Puisque $f(0^+) = -4 < 0$ et $f(10) \\simeq 5 > 0$, il est intéressant de tracer l'allure de la courbe sur ce domaine:"
   ]
  },
  {
   "cell_type": "code",
   "execution_count": 6,
   "metadata": {},
   "outputs": [
    {
     "data": {
      "image/png": "[encoded data removed]",
      "text/plain": [
       "<matplotlib.figure.Figure at 0x7ff8e41c92b0>"
      ]
     },
     "metadata": {},
     "output_type": "display_data"
    }
   ],
   "source": [
    "x = N.logspace(-1, 1)  # 50 points logarithmiquement espacé de 10**-1 = 0.1 à 10**1 = 10\n",
    "P.plot(x, func(x));"
   ]
  },
  {
   "cell_type": "code",
   "execution_count": 7,
   "metadata": {},
   "outputs": [],
   "source": [
    "import scipy.optimize as SO"
   ]
  },
  {
   "cell_type": "code",
   "execution_count": 8,
   "metadata": {},
   "outputs": [
    {
     "name": "stdout",
     "output_type": "stream",
     "text": [
      "Solution: 4.965114231744277\n"
     ]
    }
   ],
   "source": [
    "zero = SO.brentq(func, 1, 10)\n",
    "print(\"Solution:\", zero)"
   ]
  }
 ],
 "metadata": {
  "kernelspec": {
   "display_name": "Python3",
   "language": "python",
   "name": "python3"
  },
  "language_info": {
   "codemirror_mode": {
    "name": "ipython",
    "version": 3
   },
   "file_extension": ".py",
   "mimetype": "text/x-python",
   "name": "python",
   "nbconvert_exporter": "python",
   "pygments_lexer": "ipython3",
   "version": "3.5.2"
  }
 },
 "nbformat": 4,
 "nbformat_minor": 1
}
