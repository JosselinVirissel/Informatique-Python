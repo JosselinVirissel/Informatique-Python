{
 "metadata": {
  "name": "",
  "signature": "sha256:6eacdc581b7fc26bf85f0db3785d73703a5fb4d306669fc0293ce08c02b6ee65"
 },
 "nbformat": 3,
 "nbformat_minor": 0,
 "worksheets": [
  {
   "cells": [
    {
     "cell_type": "code",
     "collapsed": false,
     "input": [
      "import numpy as N"
     ],
     "language": "python",
     "metadata": {},
     "outputs": [],
     "prompt_number": 1
    },
    {
     "cell_type": "heading",
     "level": 1,
     "metadata": {},
     "source": [
      "Quadrature"
     ]
    },
    {
     "cell_type": "markdown",
     "metadata": {},
     "source": [
      "Calcul de l'int\u00e9grale $\\int_0^\\infty \\frac{x^3}{e^x - 1}\\mathrm{d}x = \\frac{\\pi^4}{15}$:"
     ]
    },
    {
     "cell_type": "code",
     "collapsed": false,
     "input": [
      "import scipy.integrate as SI"
     ],
     "language": "python",
     "metadata": {},
     "outputs": [],
     "prompt_number": 2
    },
    {
     "cell_type": "code",
     "collapsed": false,
     "input": [
      "def integrand(x):\n",
      "    \n",
      "    return x**3 / (N.exp(x) - 1)"
     ],
     "language": "python",
     "metadata": {},
     "outputs": [],
     "prompt_number": 3
    },
    {
     "cell_type": "code",
     "collapsed": false,
     "input": [
      "q,dq = SI.quad(integrand, 0, N.inf)\n",
      "print \"Int\u00e9grale:\", q\n",
      "print \"Erreur estim\u00e9e:\", dq\n",
      "print \"Erreur absolue:\", (q - (N.pi**4/15))"
     ],
     "language": "python",
     "metadata": {},
     "outputs": [
      {
       "output_type": "stream",
       "stream": "stdout",
       "text": [
        "Int\u00e9grale: 6.49393940227\n",
        "Erreur estim\u00e9e: 2.62847076684e-09\n",
        "Erreur absolue: 1.7763568394e-15\n"
       ]
      },
      {
       "output_type": "stream",
       "stream": "stderr",
       "text": [
        "-c:3: RuntimeWarning: overflow encountered in exp\n"
       ]
      }
     ],
     "prompt_number": 4
    },
    {
     "cell_type": "heading",
     "level": 1,
     "metadata": {},
     "source": [
      "Z\u00e9ro d'une fonction"
     ]
    },
    {
     "cell_type": "markdown",
     "metadata": {},
     "source": [
      "R\u00e9solution num\u00e9rique de l'\u00e9quation $\\frac{x\\,e^x}{e^x - 1} = 5$. "
     ]
    },
    {
     "cell_type": "code",
     "collapsed": false,
     "input": [
      "def func(x):\n",
      "    \n",
      "    return x*N.exp(x)/(N.exp(x) - 1) - 5"
     ],
     "language": "python",
     "metadata": {},
     "outputs": [],
     "prompt_number": 5
    },
    {
     "cell_type": "markdown",
     "metadata": {},
     "source": [
      "Il faut d'abord d\u00e9terminer un intervalle contenant la solution, c.-\u00e0-d. le z\u00e9ro de `func`:"
     ]
    },
    {
     "cell_type": "code",
     "collapsed": false,
     "input": [
      "x = N.linspace(1,10)\n",
      "import matplotlib.pyplot as P\n",
      "P.plot(x,func(x))"
     ],
     "language": "python",
     "metadata": {},
     "outputs": [
      {
       "metadata": {},
       "output_type": "pyout",
       "prompt_number": 6,
       "text": [
        "[<matplotlib.lines.Line2D at 0xb0d569ac>]"
       ]
      },
      {
       "metadata": {},
       "output_type": "display_data",
       "png": "[encoded data removed]",
       "text": [
        "<matplotlib.figure.Figure at 0xb0debecc>"
       ]
      }
     ],
     "prompt_number": 6
    },
    {
     "cell_type": "code",
     "collapsed": false,
     "input": [
      "import scipy.optimize as SO"
     ],
     "language": "python",
     "metadata": {},
     "outputs": [],
     "prompt_number": 7
    },
    {
     "cell_type": "code",
     "collapsed": false,
     "input": [
      "zero = SO.brentq(func, 1, 10)\n",
      "print \"Solution:\", zero"
     ],
     "language": "python",
     "metadata": {},
     "outputs": [
      {
       "output_type": "stream",
       "stream": "stdout",
       "text": [
        "Solution: 4.96511423174\n"
       ]
      }
     ],
     "prompt_number": 8
    }
   ],
   "metadata": {}
  }
 ]
}