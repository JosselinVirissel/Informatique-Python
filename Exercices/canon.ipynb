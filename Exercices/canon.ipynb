{
 "cells": [
  {
   "cell_type": "markdown",
   "metadata": {},
   "source": [
    "# Trajectoire d'un boulet de canon"
   ]
  },
  {
   "cell_type": "markdown",
   "metadata": {},
   "source": [
    "Nous allons intégrer les équations du mouvement pour un boulet de canon soumis à des forces de frottement \"turbulentes\" (non-linéaires):\n",
    "$$\n",
    "\\ddot{\\mathbf{r}} = \\mathbf{g} - \\frac{\\alpha}{m}v\\times\\mathbf{v}.\n",
    "$$\n",
    "\n",
    "Cette équation différentielle non linéaire du 2d ordre doit être réécrite sous la forme de deux équations différentielles couplées du 1er ordre:\n",
    "$$\n",
    "\\begin{cases}\n",
    "\\dot{\\mathbf{r}} &= \\mathbf{v} \\\\\n",
    "\\dot{\\mathbf{v}} &= \\mathbf{g} - \\frac{\\alpha}{m}v\\times\\mathbf{v}.\n",
    "\\end{cases}\n",
    "$$\n",
    "\n",
    "Il s'agit donc de résoudre *une seule* équation différentielle du 1er ordre en $\\mathbf{z} = (\\mathbf{r},\\mathbf{v})$. "
   ]
  },
  {
   "cell_type": "code",
   "execution_count": 1,
   "metadata": {},
   "outputs": [],
   "source": [
    "%matplotlib inline\n",
    "\n",
    "import numpy as N\n",
    "import scipy.integrate as SI\n",
    "import matplotlib.pyplot as P"
   ]
  },
  {
   "cell_type": "markdown",
   "metadata": {},
   "source": [
    "Valeurs numériques pour un boulet de canon de [36 livres](http://fr.wikipedia.org/wiki/Canon_de_36_livres):"
   ]
  },
  {
   "cell_type": "code",
   "execution_count": 2,
   "metadata": {},
   "outputs": [
    {
     "name": "stdout",
     "output_type": "stream",
     "text": [
      "Masse du boulet: 17.42 kg\n",
      "Coefficient de frottement par unité de masse: 0.000371899460424 S.I.\n"
     ]
    }
   ],
   "source": [
    "g = 9.81 # Pesanteur [m/s2]\n",
    "cx = 0.45 # Coefficient de frottement d'une sphère\n",
    "rhoAir = 1.2 # Masse volumique de l'air [kg/m3] au niveau de la mer, T=20°C\n",
    "rad = 0.1748/2 # Rayon du boulet [m]\n",
    "rho = 6.23e3 # Masse volumique du boulet [kg/m3]\n",
    "mass = 4./3.*N.pi*rad**3 * rho # Masse du boulet [kg]\n",
    "alpha = 0.5*cx*rhoAir*N.pi*rad**2 / mass # Coefficient de frottement par unité de masse\n",
    "print \"Masse du boulet: {:.2f} kg\".format(mass)\n",
    "print \"Coefficient de frottement par unité de masse: {} S.I.\".format(alpha)"
   ]
  },
  {
   "cell_type": "markdown",
   "metadata": {},
   "source": [
    "Conditions initiales:"
   ]
  },
  {
   "cell_type": "code",
   "execution_count": 3,
   "metadata": {},
   "outputs": [],
   "source": [
    "v0 = 450. # Vitesse initiale [m/s]\n",
    "alt = 45. # Inclinaison du canon [deg]\n",
    "alt *= N.pi/180. # Inclinaison [rad]\n",
    "z0 = (0.,0.,v0*N.cos(alt),v0*N.sin(alt)) # (x0,y0,vx0,vy0)"
   ]
  },
  {
   "cell_type": "markdown",
   "metadata": {},
   "source": [
    "Temps caractéristique du système: $t = \\sqrt{\\frac{m}{g\\alpha}}$ (durée du régime transitoire). L'intégration des équations se fera sur un temps caractéristique, avec des pas de temps significativement plus petits."
   ]
  },
  {
   "cell_type": "code",
   "execution_count": 4,
   "metadata": {},
   "outputs": [
    {
     "name": "stdout",
     "output_type": "stream",
     "text": [
      "Temps caractéristique: 69.1 s\n"
     ]
    }
   ],
   "source": [
    "tc = N.sqrt(mass/(g * alpha))\n",
    "print \"Temps caractéristique: {:.1f} s\".format(tc)\n",
    "t = N.linspace(0, tc, 100)"
   ]
  },
  {
   "cell_type": "markdown",
   "metadata": {},
   "source": [
    "Définition de la fonction $\\dot{\\mathbf{z}}$, avec $\\mathbf{z} = (\\mathbf{r},\\mathbf{v})$"
   ]
  },
  {
   "cell_type": "code",
   "execution_count": 5,
   "metadata": {},
   "outputs": [],
   "source": [
    "def zdot(z, t):\n",
    "    \"\"\"Calcul de la dérivée de z=(x,y,vx,vy) à l'instant t.\"\"\"\n",
    "    \n",
    "    x,y,vx,vy = z\n",
    "    alphav = alpha * N.hypot(vx, vy)\n",
    "    \n",
    "    return (vx,vy,-alphav*vx,-g-alphav*vy) # dz/dt = (vx,vy,x..,y..)"
   ]
  },
  {
   "cell_type": "markdown",
   "metadata": {},
   "source": [
    "Intégration numérique des équations du mouvement à l'aide de la fonction [scipy.integrate.odeint](http://docs.scipy.org/doc/scipy/reference/generated/scipy.integrate.odeint.html):"
   ]
  },
  {
   "cell_type": "code",
   "execution_count": 6,
   "metadata": {},
   "outputs": [],
   "source": [
    "zs = SI.odeint(zdot, z0, t)"
   ]
  },
  {
   "cell_type": "markdown",
   "metadata": {},
   "source": [
    "Le tableau `zs` contient les valeurs de $z$ à chaque instant $t$: il est donc de taille `(len(t),4)`."
   ]
  },
  {
   "cell_type": "code",
   "execution_count": 7,
   "metadata": {},
   "outputs": [
    {
     "name": "stdout",
     "output_type": "stream",
     "text": [
      "temps de coll. t(y~0) = 36 s\n",
      "portée x(y~0) = 3966 m\n",
      "vitesse(y~0): 140 m/s\n"
     ]
    }
   ],
   "source": [
    "ypos = zs[:,1]>=0 # y>0? \n",
    "print \"temps de coll. t(y~0) = {:.0f} s\".format(t[ypos][-1]) # Dernier instant pour lequel y>0\n",
    "print \"portée x(y~0) = {:.0f} m\".format(zs[ypos,0][-1]) # Portée approximative du canon\n",
    "#print \"y(y~0) = {:.0f} m\".format(zs[ypos,1][-1]) # ~0\n",
    "print \"vitesse(y~0): {:.0f} m/s\".format(N.hypot(zs[ypos,2][-1],zs[ypos,3][-1]))"
   ]
  },
  {
   "cell_type": "code",
   "execution_count": 8,
   "metadata": {},
   "outputs": [
    {
     "data": {
      "text/plain": [
       "<matplotlib.text.Text at 0x7fe8d8b06950>"
      ]
     },
     "execution_count": 8,
     "metadata": {},
     "output_type": "execute_result"
    },
    {
     "data": {
      "image/png": "[encoded data removed]",
      "text/plain": [
       "<matplotlib.figure.Figure at 0x7fe8d8b2fd10>"
      ]
     },
     "metadata": {},
     "output_type": "display_data"
    }
   ],
   "source": [
    "fig,ax = P.subplots()\n",
    "ax.plot(zs[ypos,0],zs[ypos,1], 'b.-')\n",
    "ax.set_xlabel(\"x [m]\")\n",
    "ax.set_ylabel(\"y [m]\")\n",
    "ax.set_title(\"Trajectoire du boulet\")"
   ]
  }
 ],
 "metadata": {
  "kernelspec": {
   "display_name": "Python 2",
   "language": "python",
   "name": "python2"
  },
  "language_info": {
   "codemirror_mode": {
    "name": "ipython",
    "version": 2
   },
   "file_extension": ".py",
   "mimetype": "text/x-python",
   "name": "python",
   "nbconvert_exporter": "python",
   "pygments_lexer": "ipython2",
   "version": "2.7.12"
  }
 },
 "nbformat": 4,
 "nbformat_minor": 1
}
