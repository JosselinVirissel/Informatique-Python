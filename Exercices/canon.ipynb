{
 "metadata": {
  "name": "",
  "signature": "sha256:795c87bcf9c7643b3e514c8ca0c8e1e171c771ec7416c934ae8dc3a5546a62ac"
 },
 "nbformat": 3,
 "nbformat_minor": 0,
 "worksheets": [
  {
   "cells": [
    {
     "cell_type": "heading",
     "level": 1,
     "metadata": {},
     "source": [
      "Trajectoire d'un boulet de canon"
     ]
    },
    {
     "cell_type": "markdown",
     "metadata": {},
     "source": [
      "Nous allons int\u00e9grer les \u00e9quations du mouvement pour un boulet de canon soumis \u00e0 des forces de frottement \"turbulentes\" (non-lin\u00e9aires):\n",
      "$$\n",
      "\\ddot{\\mathbf{r}} = \\mathbf{g} - \\frac{\\alpha}{m}v\\times\\mathbf{v}.\n",
      "$$\n",
      "Cette \u00e9quation diff\u00e9rentielle non-lin\u00e9aire du 2nd ordre doit \u00eatre r\u00e9\u00e9crite sous la forme de deux \u00e9quations diff\u00e9rentielles coupl\u00e9es du 1er ordre:\n",
      "$$\n",
      "\\begin{cases}\n",
      "\\dot{\\mathbf{r}} &= \\mathbf{v} \\\\\n",
      "\\dot{\\mathbf{v}} &= \\mathbf{g} - \\frac{\\alpha}{m}v\\times\\mathbf{v}.\n",
      "\\end{cases}\n",
      "$$\n",
      "Il s'agit donc de r\u00e9soudre *une seule* \u00e9quation diff\u00e9rentielle du 1er ordre en $\\mathbf{z} = (\\mathbf{r},\\mathbf{v})$. "
     ]
    },
    {
     "cell_type": "code",
     "collapsed": false,
     "input": [
      "import numpy as N\n",
      "import scipy.integrate as SI\n",
      "import matplotlib.pyplot as P"
     ],
     "language": "python",
     "metadata": {},
     "outputs": [],
     "prompt_number": 9
    },
    {
     "cell_type": "markdown",
     "metadata": {},
     "source": [
      "Valeurs num\u00e9riques pour un boulet de canon de [36 livres](http://fr.wikipedia.org/wiki/Canon_de_36_livres):"
     ]
    },
    {
     "cell_type": "code",
     "collapsed": false,
     "input": [
      "g = 9.81 # Pesanteur [m/s2]\n",
      "cx = 0.45 # Coefficient de frottement d'une sph\u00e8re\n",
      "rhoAir = 1.2 # Masse volumique de l'air [kg/m3] au niveau de la mer, T=20\u00b0C\n",
      "rad = 0.1748/2 # Rayon du boulet [m]\n",
      "rho = 6.23e3 # Masse volumique du boulet [kg/m3]\n",
      "mass = 4./3.*N.pi*rad**3 * rho # Masse du boulet [kg]\n",
      "alpha = 0.5*cx*rhoAir*N.pi*rad**2 / mass # Coefficient de frottement par unit\u00e9 de masse\n",
      "print \"Masse du boulet: {:.2f} kg\".format(mass)\n",
      "print \"Coefficient de frottement par unit\u00e9 de masse: {} S.I.\".format(alpha)"
     ],
     "language": "python",
     "metadata": {},
     "outputs": [
      {
       "output_type": "stream",
       "stream": "stdout",
       "text": [
        "Masse du boulet: 17.42 kg\n",
        "Coefficient de frottement par unit\u00e9 de masse: 0.000372 S.I.\n"
       ]
      }
     ],
     "prompt_number": 10
    },
    {
     "cell_type": "markdown",
     "metadata": {},
     "source": [
      "Conditions initiales:"
     ]
    },
    {
     "cell_type": "code",
     "collapsed": false,
     "input": [
      "v0 = 450. # Vitesse initiale [m/s]\n",
      "alt = 45. # Inclinaison du canon [deg]\n",
      "alt *= N.pi/180. # Inclinaison [rad]\n",
      "z0 = (0.,0.,v0*N.cos(alt),v0*N.sin(alt)) # (x0,y0,vx0,vy0)"
     ],
     "language": "python",
     "metadata": {},
     "outputs": [],
     "prompt_number": 11
    },
    {
     "cell_type": "markdown",
     "metadata": {},
     "source": [
      "Temps caract\u00e9ristique du syst\u00e8me: $t = \\sqrt{\\frac{m}{g\\alpha}}$ (dur\u00e9e du r\u00e9gime transitoire). L'int\u00e9gration des \u00e9quations se fera sur un temps caract\u00e9ristique, avec des pas de temps significativement plus petits."
     ]
    },
    {
     "cell_type": "code",
     "collapsed": false,
     "input": [
      "dt = N.sqrt(mass/(g * alpha))\n",
      "print \"Temps caract\u00e9ristique: {:.1f} s\".format(dt)\n",
      "t = N.linspace(0, dt, 100)"
     ],
     "language": "python",
     "metadata": {},
     "outputs": [
      {
       "output_type": "stream",
       "stream": "stdout",
       "text": [
        "Temps caract\u00e9ristique: 69.1 s\n"
       ]
      }
     ],
     "prompt_number": 12
    },
    {
     "cell_type": "markdown",
     "metadata": {},
     "source": [
      "D\u00e9finition de la fonction $\\dot{\\mathbf{z}}$, avec $\\mathbf{z} = (\\mathbf{r},\\mathbf{v})$"
     ]
    },
    {
     "cell_type": "code",
     "collapsed": false,
     "input": [
      "def zdot(z, t):\n",
      "    \"\"\"Calcul de la d\u00e9riv\u00e9e de z=(x,y,vx,vy) \u00e0 l'instant t.\"\"\"\n",
      "    \n",
      "    x,y,vx,vy = z\n",
      "    alphav = alpha * N.hypot(vx, vy)\n",
      "    \n",
      "    return (vx,vy,-alphav*vx,-g-alphav*vy) # dz/dt = (vx,vy,x..,y..)"
     ],
     "language": "python",
     "metadata": {},
     "outputs": [],
     "prompt_number": 13
    },
    {
     "cell_type": "markdown",
     "metadata": {},
     "source": [
      "Int\u00e9gration num\u00e9rique des \u00e9quations du mouvement \u00e0 l'aide de la fonction [scipy.integrate.odeint](http://docs.scipy.org/doc/scipy/reference/generated/scipy.integrate.odeint.html):"
     ]
    },
    {
     "cell_type": "code",
     "collapsed": false,
     "input": [
      "zs = SI.odeint(zdot, z0, t, printmessg=True)"
     ],
     "language": "python",
     "metadata": {},
     "outputs": [
      {
       "output_type": "stream",
       "stream": "stdout",
       "text": [
        "Integration successful.\n"
       ]
      }
     ],
     "prompt_number": 14
    },
    {
     "cell_type": "markdown",
     "metadata": {},
     "source": [
      "Le tableau `zs` contient les valeurs de $z$ \u00e0 chaque instant $t$: il est donc de taille `(len(t),4)`."
     ]
    },
    {
     "cell_type": "code",
     "collapsed": false,
     "input": [
      "ypos = zs[:,1]>=0 # y>0? \n",
      "print \"t(y~0) = {:.0f} s\".format(t[ypos][-1]) # Dernier instant pour lequel y>0\n",
      "print \"x(y~0) = {:.0f} m\".format(zs[ypos,0][-1]) # Port\u00e9e approximative du canon\n",
      "#print \"y(y~0) = {:.0f} m\".format(zs[ypos,1][-1]) # ~0\n",
      "print \"vitesse(y~0): {:.0f} m/s\".format(N.hypot(zs[ypos,2][-1],zs[ypos,3][-1]))"
     ],
     "language": "python",
     "metadata": {},
     "outputs": [
      {
       "output_type": "stream",
       "stream": "stdout",
       "text": [
        "t(y~0) = 36 s\n",
        "x(y~0) = 3966 m\n",
        "vitesse(y~0): 140 m/s\n"
       ]
      }
     ],
     "prompt_number": 15
    },
    {
     "cell_type": "code",
     "collapsed": false,
     "input": [
      "fig,ax = P.subplots()\n",
      "ax.plot(zs[ypos,0],zs[ypos,1], 'b.-')\n",
      "ax.set_xlabel(\"x [m]\")\n",
      "ax.set_ylabel(\"y [m]\")\n",
      "ax.set_title(\"Trajectoire du boulet\")"
     ],
     "language": "python",
     "metadata": {},
     "outputs": [
      {
       "metadata": {},
       "output_type": "pyout",
       "prompt_number": 16,
       "text": [
        "<matplotlib.text.Text at 0x2ef3290>"
       ]
      },
      {
       "metadata": {},
       "output_type": "display_data",
       "png": "[encoded data removed]",
       "text": [
        "<matplotlib.figure.Figure at 0x2fb5510>"
       ]
      }
     ],
     "prompt_number": 16
    }
   ],
   "metadata": {}
  }
 ]
}